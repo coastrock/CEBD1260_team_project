{
 "cells": [
  {
   "cell_type": "markdown",
   "metadata": {},
   "source": [
    "# Exploratory Data Analysis"
   ]
  },
  {
   "cell_type": "code",
   "execution_count": 13,
   "metadata": {},
   "outputs": [],
   "source": [
    "# import the libraries\n",
    "%matplotlib inline\n",
    "\n",
    "import pandas as pd\n",
    "import numpy as np\n",
    "import scipy\n",
    "import matplotlib.pyplot as plt\n",
    "import seaborn as sns\n",
    "\n",
    "# apply style to all the charts\n",
    "sns.set_style('whitegrid')"
   ]
  },
  {
   "cell_type": "markdown",
   "metadata": {},
   "source": [
    "## Load the clean dataset"
   ]
  },
  {
   "cell_type": "code",
   "execution_count": 14,
   "metadata": {},
   "outputs": [],
   "source": [
    "# Load the data\n",
    "df = pd.read_csv('black_friday_processed.csv')"
   ]
  },
  {
   "cell_type": "markdown",
   "metadata": {},
   "source": [
    "## Data Perspective"
   ]
  },
  {
   "cell_type": "markdown",
   "metadata": {},
   "source": [
    "### Demographic Analysis"
   ]
  },
  {
   "cell_type": "code",
   "execution_count": 15,
   "metadata": {},
   "outputs": [],
   "source": [
    "# Analize transactions distribuction considering demographic data\n",
    "\n",
    "fig = plt.figure(figsize=(15, 15))\n",
    "fig.subplots_adjust(top=0.85, wspace=0.3)\n",
    "\n",
    "ax1 = fig.add_subplot(3,3,1)\n",
    "bar1 = sns.countplot(x = \"Gender\", order=[\"M\",\"F\"], palette=\"Set2\", data = df)\n",
    "\n",
    "ax2 = fig.add_subplot(3,3,2)\n",
    "bar2 = sns.countplot(x = \"Age\", order=[\"0-17\",\"18-25\",\"26-35\",\"36-45\",\"46-50\",\"55+\"], palette=\"Set2\", data = df)\n",
    "\n",
    "ax3 = fig.add_subplot(3,3,3)\n",
    "bar3 = sns.countplot(x = \"Occupation\", palette=\"Set2\", data = df)\n",
    "\n",
    "ax4 = fig.add_subplot(3,3,4)\n",
    "bar4 = sns.countplot(x = \"City_Category\", order=[\"A\",\"B\",\"C\"], palette=\"Set2\", data = df)\n",
    "\n",
    "ax5 = fig.add_subplot(3,3,5)\n",
    "bar5 = sns.countplot(x = \"Stay_In_Current_City_Years\", order=[\"0\",\"1\",\"2\",\"3\",\"4+\"], palette=\"Set2\", data = df)\n",
    "\n",
    "ax6 = fig.add_subplot(3,3,6)\n",
    "bar6 = sns.countplot(x = \"Marital_Status\", palette=\"Set2\", data = df)\n",
    "\n",
    "plt.savefig('figures/Exploratory_Demographic_Analysis.png')\n",
    "plt.clf()\n",
    "plt.close()"
   ]
  },
  {
   "cell_type": "markdown",
   "metadata": {},
   "source": [
    "## Business Perspective"
   ]
  },
  {
   "cell_type": "markdown",
   "metadata": {},
   "source": [
    "### Business Analysis"
   ]
  },
  {
   "cell_type": "code",
   "execution_count": 16,
   "metadata": {},
   "outputs": [],
   "source": [
    "# Analyse transactions distribution considering the Occupation and City where the Purchases occured\n",
    "sns.catplot(x = \"Occupation\",\n",
    "            y = \"Purchase\",\n",
    "            hue = \"City_Category\",\n",
    "            hue_order = [\"A\", \"B\", \"C\"],\n",
    "            aspect = 3,\n",
    "            kind = \"bar\",\n",
    "            data = df)\n",
    "\n",
    "plt.savefig('figures/Exploratory_Business_Analysis.png')\n",
    "plt.clf()\n",
    "plt.close()"
   ]
  },
  {
   "cell_type": "markdown",
   "metadata": {},
   "source": [
    "This figure accounts for the occupation of our customers across different cities in terms of purchase. Let's first address the spike for Occupation 8 in City A, it showed in the earlier countplot that occupation 8 made up only of a tiny number of purchases, the vertical std bar helps explain this spike probably by a few large transactions. However, we can see that apart from the occupation 8, the graph shows that purchases are highest in City C regardless of occupations. We can therefore make assumptions about the purchasing power from customers in City C."
   ]
  }
 ],
 "metadata": {
  "anaconda-cloud": {},
  "kernelspec": {
   "display_name": "Python 3",
   "language": "python",
   "name": "python3"
  },
  "language_info": {
   "codemirror_mode": {
    "name": "ipython",
    "version": 3
   },
   "file_extension": ".py",
   "mimetype": "text/x-python",
   "name": "python",
   "nbconvert_exporter": "python",
   "pygments_lexer": "ipython3",
   "version": "3.7.1"
  }
 },
 "nbformat": 4,
 "nbformat_minor": 1
}
